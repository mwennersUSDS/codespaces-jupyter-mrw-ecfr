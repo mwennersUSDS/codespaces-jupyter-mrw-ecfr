{
 "cells": [
  {
   "cell_type": "code",
   "execution_count": null,
   "id": "6f0beccc",
   "metadata": {},
   "outputs": [
    {
     "name": "stdout",
     "output_type": "stream",
     "text": [
      "[{'fact': 'A steady diet of dog food may cause blindness in your cat - it lacks taurine.', 'length': 77}, {'type': 'general', 'setup': '99.9% of the people are dumb!', 'punchline': 'Fortunately I belong to the remaining 1%', 'id': 398}, {'country': 'United States', 'country abbreviation': 'US', 'post code': '21801', 'places': [{'place name': 'Salisbury', 'longitude': '-75.6336', 'latitude': '38.3824', 'state': 'Maryland', 'state abbreviation': 'MD'}]}, {'country': 'United States', 'country abbreviation': 'US', 'post code': '90210', 'places': [{'place name': 'Beverly Hills', 'longitude': '-118.4065', 'latitude': '34.0901', 'state': 'California', 'state abbreviation': 'CA'}]}]\n"
     ]
    }
   ],
   "source": [
    "import aiohttp\n",
    "import asyncio\n",
    "import nest_asyncio\n",
    "nest_asyncio.apply()\n",
    "\n",
    "# This script demonstrates how to make asynchronous requests in parallel using asyncio.\n",
    "# First, define some URLs or endpoints to simulate requests.\n",
    " # List of URLs to fetch data from\n",
    "urls = [\n",
    "        'https://catfact.ninja/fact',\n",
    "        'https://official-joke-api.appspot.com/random_joke',\n",
    "        'https://api.zippopotam.us/us/21801',\n",
    "        'https://api.zippopotam.us/us/90210'\n",
    "    ]\n",
    "\n",
    "# Asynchronous function to fetch data from a given URL using aiohttp\n",
    "async def fetch_data(session, url):\n",
    "    # Use 'session.get()' to make an asynchronous HTTP GET request\n",
    "    async with session.get(url) as response:\n",
    "        # Return the JSON content of the response using 'response.json()'\n",
    "        return await response.json()\n",
    "\n",
    "# Asynchronous main function\n",
    "async def main():\n",
    "    # Create an aiohttp ClientSession for making asynchronous HTTP requests\n",
    "    async with aiohttp.ClientSession() as session:\n",
    "        # Create a list of tasks, where each task is a call to 'fetch_data' with a specific URL\n",
    "        tasks = [fetch_data(session, url) for url in urls]\n",
    "        \n",
    "        # Use 'asyncio.gather()' to run the tasks concurrently and gather their results\n",
    "        results = await asyncio.gather(*tasks)\n",
    "\n",
    "    # Print the results obtained from fetching data from each URL\n",
    "    print(results)\n",
    "\n",
    "# Run the main function using 'asyncio.run()' if the script is executed\n",
    "if __name__ == \"__main__\":\n",
    "    asyncio.run(main())\n",
    "\n",
    "\n",
    "\n"
   ]
  }
 ],
 "metadata": {
  "kernelspec": {
   "display_name": "Python 3",
   "language": "python",
   "name": "python3"
  },
  "language_info": {
   "codemirror_mode": {
    "name": "ipython",
    "version": 3
   },
   "file_extension": ".py",
   "mimetype": "text/x-python",
   "name": "python",
   "nbconvert_exporter": "python",
   "pygments_lexer": "ipython3",
   "version": "3.12.1"
  }
 },
 "nbformat": 4,
 "nbformat_minor": 5
}
