{
 "cells": [
  {
   "cell_type": "code",
   "execution_count": 18,
   "id": "6f0beccc",
   "metadata": {},
   "outputs": [
    {
     "name": "stdout",
     "output_type": "stream",
     "text": [
      "[{'fact': 'If they have ample water, cats can tolerate temperatures up to 133 °F.', 'length': 70}, {'type': 'general', 'setup': 'My older brother always tore the last pages of my comic books, and never told me why.', 'punchline': 'I had to draw my own conclusions.', 'id': 386}, {'country': 'United States', 'country abbreviation': 'US', 'post code': '21801', 'places': [{'place name': 'Salisbury', 'longitude': '-75.6336', 'latitude': '38.3824', 'state': 'Maryland', 'state abbreviation': 'MD'}]}, {'titles': [{'number': 1, 'name': 'General Provisions', 'latest_amended_on': '2022-12-29', 'latest_issue_date': '2024-05-17', 'up_to_date_as_of': '2025-07-31', 'reserved': False}, {'number': 2, 'name': 'Federal Financial Assistance', 'latest_amended_on': '2025-01-03', 'latest_issue_date': '2025-05-15', 'up_to_date_as_of': '2025-07-31', 'reserved': False}, {'number': 3, 'name': 'The President', 'latest_amended_on': '2015-03-17', 'latest_issue_date': '2024-05-17', 'up_to_date_as_of': '2025-07-31', 'reserved': False}, {'number': 4, 'name': 'Accounts', 'latest_amended_on': '2024-07-18', 'latest_issue_date': '2024-07-18', 'up_to_date_as_of': '2025-07-31', 'reserved': False}, {'number': 5, 'name': 'Administrative Personnel', 'latest_amended_on': '2025-07-25', 'latest_issue_date': '2025-07-25', 'up_to_date_as_of': '2025-07-31', 'reserved': False}, {'number': 6, 'name': 'Domestic Security', 'latest_amended_on': '2025-06-09', 'latest_issue_date': '2025-06-09', 'up_to_date_as_of': '2025-07-31', 'reserved': False}, {'number': 7, 'name': 'Agriculture', 'latest_amended_on': '2025-07-29', 'latest_issue_date': '2025-07-29', 'up_to_date_as_of': '2025-07-31', 'reserved': False}, {'number': 8, 'name': 'Aliens and Nationality', 'latest_amended_on': '2025-06-27', 'latest_issue_date': '2025-06-30', 'up_to_date_as_of': '2025-07-31', 'reserved': False}, {'number': 9, 'name': 'Animals and Animal Products', 'latest_amended_on': '2025-07-01', 'latest_issue_date': '2025-07-01', 'up_to_date_as_of': '2025-07-31', 'reserved': False}, {'number': 10, 'name': 'Energy', 'latest_amended_on': '2025-07-29', 'latest_issue_date': '2025-07-29', 'up_to_date_as_of': '2025-07-31', 'reserved': False}, {'number': 11, 'name': 'Federal Elections', 'latest_amended_on': '2025-02-20', 'latest_issue_date': '2025-04-25', 'up_to_date_as_of': '2025-07-31', 'reserved': False}, {'number': 12, 'name': 'Banks and Banking', 'latest_amended_on': '2025-07-21', 'latest_issue_date': '2025-07-21', 'up_to_date_as_of': '2025-07-31', 'reserved': False}, {'number': 13, 'name': 'Business Credit and Assistance', 'latest_amended_on': '2025-07-03', 'latest_issue_date': '2025-07-03', 'up_to_date_as_of': '2025-07-31', 'reserved': False}, {'number': 14, 'name': 'Aeronautics and Space', 'latest_amended_on': '2025-07-24', 'latest_issue_date': '2025-07-24', 'up_to_date_as_of': '2025-07-31', 'reserved': False}, {'number': 15, 'name': 'Commerce and Foreign Trade', 'latest_amended_on': '2025-05-02', 'latest_issue_date': '2025-06-17', 'up_to_date_as_of': '2025-07-31', 'reserved': False}, {'number': 16, 'name': 'Commercial Practices', 'latest_amended_on': '2025-07-05', 'latest_issue_date': '2025-07-07', 'up_to_date_as_of': '2025-07-31', 'reserved': False}, {'number': 17, 'name': 'Commodity and Securities Exchanges', 'latest_amended_on': '2025-07-01', 'latest_issue_date': '2025-07-01', 'up_to_date_as_of': '2025-07-31', 'reserved': False}, {'number': 18, 'name': 'Conservation of Power and Water Resources', 'latest_amended_on': '2025-07-03', 'latest_issue_date': '2025-07-03', 'up_to_date_as_of': '2025-07-31', 'reserved': False}, {'number': 19, 'name': 'Customs Duties', 'latest_amended_on': '2025-07-28', 'latest_issue_date': '2025-07-28', 'up_to_date_as_of': '2025-07-31', 'reserved': False}, {'number': 20, 'name': \"Employees' Benefits\", 'latest_amended_on': '2025-07-23', 'latest_issue_date': '2025-07-23', 'up_to_date_as_of': '2025-07-31', 'reserved': False}, {'number': 21, 'name': 'Food and Drugs', 'latest_amended_on': '2025-07-28', 'latest_issue_date': '2025-07-28', 'up_to_date_as_of': '2025-07-31', 'reserved': False}, {'number': 22, 'name': 'Foreign Relations', 'latest_amended_on': '2025-07-07', 'latest_issue_date': '2025-07-21', 'up_to_date_as_of': '2025-07-31', 'reserved': False}, {'number': 23, 'name': 'Highways', 'latest_amended_on': '2025-07-15', 'latest_issue_date': '2025-07-15', 'up_to_date_as_of': '2025-07-31', 'reserved': False}, {'number': 24, 'name': 'Housing and Urban Development', 'latest_amended_on': '2025-07-14', 'latest_issue_date': '2025-07-14', 'up_to_date_as_of': '2025-07-31', 'reserved': False}, {'number': 25, 'name': 'Indians', 'latest_amended_on': '2025-06-05', 'latest_issue_date': '2025-06-25', 'up_to_date_as_of': '2025-07-31', 'reserved': False}, {'number': 26, 'name': 'Internal Revenue', 'latest_amended_on': '2025-07-11', 'latest_issue_date': '2025-07-11', 'up_to_date_as_of': '2025-07-31', 'reserved': False}, {'number': 27, 'name': 'Alcohol, Tobacco Products and Firearms', 'latest_amended_on': '2025-03-20', 'latest_issue_date': '2025-06-24', 'up_to_date_as_of': '2025-07-31', 'reserved': False}, {'number': 28, 'name': 'Judicial Administration', 'latest_amended_on': '2025-07-03', 'latest_issue_date': '2025-07-17', 'up_to_date_as_of': '2025-07-31', 'reserved': False}, {'number': 29, 'name': 'Labor', 'latest_amended_on': '2025-07-31', 'latest_issue_date': '2025-07-31', 'up_to_date_as_of': '2025-07-31', 'reserved': False}, {'number': 30, 'name': 'Mineral Resources', 'latest_amended_on': '2025-07-28', 'latest_issue_date': '2025-07-28', 'up_to_date_as_of': '2025-07-31', 'reserved': False}, {'number': 31, 'name': 'Money and Finance: Treasury', 'latest_amended_on': '2025-07-01', 'latest_issue_date': '2025-07-16', 'up_to_date_as_of': '2025-07-31', 'reserved': False}, {'number': 32, 'name': 'National Defense', 'latest_amended_on': '2025-07-28', 'latest_issue_date': '2025-07-28', 'up_to_date_as_of': '2025-07-31', 'reserved': False}, {'number': 33, 'name': 'Navigation and Navigable Waters', 'latest_amended_on': '2025-07-31', 'latest_issue_date': '2025-07-31', 'up_to_date_as_of': '2025-07-31', 'reserved': False}, {'number': 34, 'name': 'Education', 'latest_amended_on': '2025-02-18', 'latest_issue_date': '2025-02-18', 'up_to_date_as_of': '2025-07-31', 'reserved': False}, {'number': 35, 'name': 'Reserved', 'latest_amended_on': None, 'latest_issue_date': None, 'up_to_date_as_of': None, 'reserved': True}, {'number': 36, 'name': 'Parks, Forests, and Public Property', 'latest_amended_on': '2025-07-18', 'latest_issue_date': '2025-07-18', 'up_to_date_as_of': '2025-07-31', 'reserved': False}, {'number': 37, 'name': 'Patents, Trademarks, and Copyrights', 'latest_amended_on': '2025-07-10', 'latest_issue_date': '2025-07-10', 'up_to_date_as_of': '2025-07-31', 'reserved': False}, {'number': 38, 'name': \"Pensions, Bonuses, and Veterans' Relief\", 'latest_amended_on': '2025-07-31', 'latest_issue_date': '2025-07-31', 'up_to_date_as_of': '2025-07-31', 'reserved': False}, {'number': 39, 'name': 'Postal Service', 'latest_amended_on': '2025-07-17', 'latest_issue_date': '2025-07-17', 'up_to_date_as_of': '2025-07-31', 'reserved': False}, {'number': 40, 'name': 'Protection of Environment', 'latest_amended_on': '2025-07-31', 'latest_issue_date': '2025-07-31', 'up_to_date_as_of': '2025-07-31', 'reserved': False}, {'number': 41, 'name': 'Public Contracts and Property Management', 'latest_amended_on': '2025-01-21', 'latest_issue_date': '2025-07-30', 'up_to_date_as_of': '2025-07-31', 'reserved': False}, {'number': 42, 'name': 'Public Health', 'latest_amended_on': '2025-06-03', 'latest_issue_date': '2025-06-03', 'up_to_date_as_of': '2025-07-31', 'reserved': False}, {'number': 43, 'name': 'Public Lands: Interior', 'latest_amended_on': '2025-07-22', 'latest_issue_date': '2025-07-23', 'up_to_date_as_of': '2025-07-31', 'reserved': False}, {'number': 44, 'name': 'Emergency Management and Assistance', 'latest_amended_on': '2024-12-31', 'latest_issue_date': '2025-01-01', 'up_to_date_as_of': '2025-07-31', 'reserved': False}, {'number': 45, 'name': 'Public Welfare', 'latest_amended_on': '2025-06-25', 'latest_issue_date': '2025-07-21', 'up_to_date_as_of': '2025-07-31', 'reserved': False}, {'number': 46, 'name': 'Shipping', 'latest_amended_on': '2025-07-01', 'latest_issue_date': '2025-07-01', 'up_to_date_as_of': '2025-07-31', 'reserved': False}, {'number': 47, 'name': 'Telecommunication', 'latest_amended_on': '2025-07-31', 'latest_issue_date': '2025-07-31', 'up_to_date_as_of': '2025-07-31', 'reserved': False}, {'number': 48, 'name': 'Federal Acquisition Regulations System', 'latest_amended_on': '2025-07-07', 'latest_issue_date': '2025-07-07', 'up_to_date_as_of': '2025-07-31', 'reserved': False}, {'number': 49, 'name': 'Transportation', 'latest_amended_on': '2025-07-31', 'latest_issue_date': '2025-07-31', 'up_to_date_as_of': '2025-07-31', 'reserved': False}, {'number': 50, 'name': 'Wildlife and Fisheries', 'latest_amended_on': '2025-07-25', 'latest_issue_date': '2025-07-25', 'up_to_date_as_of': '2025-07-31', 'reserved': False}], 'meta': {'date': '2025-07-31', 'import_in_progress': False}}, {'country': 'United States', 'country abbreviation': 'US', 'post code': '90210', 'places': [{'place name': 'Beverly Hills', 'longitude': '-118.4065', 'latitude': '34.0901', 'state': 'California', 'state abbreviation': 'CA'}]}]\n"
     ]
    }
   ],
   "source": [
    "import aiohttp\n",
    "import asyncio\n",
    "import nest_asyncio\n",
    "nest_asyncio.apply()\n",
    "\n",
    "# This script demonstrates how to make asynchronous requests in parallel using asyncio.\n",
    "# First, define some URLs or endpoints to simulate requests.\n",
    " # List of URLs to fetch data from\n",
    "urls = [\n",
    "        'https://catfact.ninja/fact',\n",
    "        'https://official-joke-api.appspot.com/random_joke',\n",
    "        'https://api.zippopotam.us/us/21801',\n",
    "        'https://www.ecfr.gov/api/versioner/v1/titles.json',\n",
    "        'https://api.zippopotam.us/us/90210'\n",
    "    ]\n",
    "\n",
    "# Asynchronous function to fetch data from a given URL using aiohttp\n",
    "async def fetch_data(session, url):\n",
    "    # Use 'session.get()' to make an asynchronous HTTP GET request\n",
    "    async with session.get(url) as response:\n",
    "        # Return the JSON content of the response using 'response.json()'\n",
    "        return await response.json()\n",
    "\n",
    "# Asynchronous main function\n",
    "async def main():\n",
    "    # Create an aiohttp ClientSession for making asynchronous HTTP requests\n",
    "    async with aiohttp.ClientSession() as session:\n",
    "        # Create a list of tasks, where each task is a call to 'fetch_data' with a specific URL\n",
    "        tasks = [fetch_data(session, url) for url in urls]\n",
    "        \n",
    "        # Use 'asyncio.gather()' to run the tasks concurrently and gather their results\n",
    "        results = await asyncio.gather(*tasks)\n",
    "\n",
    "    # Print the results obtained from fetching data from each URL\n",
    "    print(results)\n",
    "\n",
    "# Run the main function using 'asyncio.run()' if the script is executed\n",
    "if __name__ == \"__main__\":\n",
    "    asyncio.run(main())\n",
    "\n",
    "\n",
    "\n"
   ]
  }
 ],
 "metadata": {
  "kernelspec": {
   "display_name": "Python 3",
   "language": "python",
   "name": "python3"
  },
  "language_info": {
   "codemirror_mode": {
    "name": "ipython",
    "version": 3
   },
   "file_extension": ".py",
   "mimetype": "text/x-python",
   "name": "python",
   "nbconvert_exporter": "python",
   "pygments_lexer": "ipython3",
   "version": "3.12.1"
  }
 },
 "nbformat": 4,
 "nbformat_minor": 5
}
