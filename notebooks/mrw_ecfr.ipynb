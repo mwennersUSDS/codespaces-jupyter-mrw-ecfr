{
 "cells": [
  {
   "cell_type": "markdown",
   "id": "a76bfca6",
   "metadata": {},
   "source": [
    "<h1>Matt's eCFR API Demonstrator</h1>\n",
    "<p>An intro to Jupyter Notebooks</p>\n",
    "<p><i>This is a very important subtitle, to be updated later</i></p>"
   ]
  },
  {
   "cell_type": "code",
   "execution_count": 12,
   "id": "264b1d03",
   "metadata": {},
   "outputs": [
    {
     "name": "stdout",
     "output_type": "stream",
     "text": [
      "Welcome to the MRWeCFR with base_url of https://www.ecfr.gov/api/\n",
      "Let's do this - reading the file now\n",
      "Nothing to see here but these titles \n",
      "\n",
      "{'titles': [{'number': 1, 'name': 'General Provisions', 'latest_amended_on': '2022-12-29', 'latest_issue_date': '2024-05-17', 'up_to_date_as_of': '2025-07-03', 'reserved': False}, {'number': 2, 'name': 'Federal Financial Assistance', 'latest_amended_on': '2025-01-03', 'latest_issue_date': '2025-05-15', 'up_to_date_as_of': '2025-07-03', 'reserved': False}, {'number': 3, 'name': 'The President', 'latest_amended_on': '2015-03-17', 'latest_issue_date': '2024-05-17', 'up_to_date_as_of': '2025-07-03', 'reserved': False}, {'number': 4, 'name': 'Accounts', 'latest_amended_on': '2024-07-18', 'latest_issue_date': '2024-07-18', 'up_to_date_as_of': '2025-07-03', 'reserved': False}, {'number': 5, 'name': 'Administrative Personnel', 'latest_amended_on': '2025-06-24', 'latest_issue_date': '2025-06-24', 'up_to_date_as_of': '2025-07-03', 'reserved': False}, {'number': 6, 'name': 'Domestic Security', 'latest_amended_on': '2025-06-09', 'latest_issue_date': '2025-06-09', 'up_to_date_as_of': '2025-07-03', 'reserved': False}, {'number': 7, 'name': 'Agriculture', 'latest_amended_on': '2025-07-03', 'latest_issue_date': '2025-07-03', 'up_to_date_as_of': '2025-07-03', 'reserved': False}, {'number': 8, 'name': 'Aliens and Nationality', 'latest_amended_on': '2025-06-27', 'latest_issue_date': '2025-06-30', 'up_to_date_as_of': '2025-07-03', 'reserved': False}, {'number': 9, 'name': 'Animals and Animal Products', 'latest_amended_on': '2025-07-01', 'latest_issue_date': '2025-07-01', 'up_to_date_as_of': '2025-07-03', 'reserved': False}, {'number': 10, 'name': 'Energy', 'latest_amended_on': '2025-07-03', 'latest_issue_date': '2025-07-03', 'up_to_date_as_of': '2025-07-03', 'reserved': False}, {'number': 11, 'name': 'Federal Elections', 'latest_amended_on': '2025-02-20', 'latest_issue_date': '2025-04-25', 'up_to_date_as_of': '2025-07-03', 'reserved': False}, {'number': 12, 'name': 'Banks and Banking', 'latest_amended_on': '2025-07-01', 'latest_issue_date': '2025-07-01', 'up_to_date_as_of': '2025-07-03', 'reserved': False}, {'number': 13, 'name': 'Business Credit and Assistance', 'latest_amended_on': '2025-07-03', 'latest_issue_date': '2025-07-03', 'up_to_date_as_of': '2025-07-03', 'reserved': False}, {'number': 14, 'name': 'Aeronautics and Space', 'latest_amended_on': '2025-07-01', 'latest_issue_date': '2025-07-02', 'up_to_date_as_of': '2025-07-03', 'reserved': False}, {'number': 15, 'name': 'Commerce and Foreign Trade', 'latest_amended_on': '2025-05-02', 'latest_issue_date': '2025-06-17', 'up_to_date_as_of': '2025-07-03', 'reserved': False}, {'number': 16, 'name': 'Commercial Practices', 'latest_amended_on': '2025-06-23', 'latest_issue_date': '2025-06-23', 'up_to_date_as_of': '2025-07-03', 'reserved': False}, {'number': 17, 'name': 'Commodity and Securities Exchanges', 'latest_amended_on': '2025-07-01', 'latest_issue_date': '2025-07-01', 'up_to_date_as_of': '2025-07-03', 'reserved': False}, {'number': 18, 'name': 'Conservation of Power and Water Resources', 'latest_amended_on': '2025-07-03', 'latest_issue_date': '2025-07-03', 'up_to_date_as_of': '2025-07-03', 'reserved': False}, {'number': 19, 'name': 'Customs Duties', 'latest_amended_on': '2025-05-14', 'latest_issue_date': '2025-06-18', 'up_to_date_as_of': '2025-07-03', 'reserved': False}, {'number': 20, 'name': \"Employees' Benefits\", 'latest_amended_on': '2025-07-01', 'latest_issue_date': '2025-07-03', 'up_to_date_as_of': '2025-07-03', 'reserved': False}, {'number': 21, 'name': 'Food and Drugs', 'latest_amended_on': '2025-06-26', 'latest_issue_date': '2025-06-27', 'up_to_date_as_of': '2025-07-03', 'reserved': False}, {'number': 22, 'name': 'Foreign Relations', 'latest_amended_on': '2025-07-01', 'latest_issue_date': '2025-07-01', 'up_to_date_as_of': '2025-07-03', 'reserved': False}, {'number': 23, 'name': 'Highways', 'latest_amended_on': '2025-07-03', 'latest_issue_date': '2025-07-03', 'up_to_date_as_of': '2025-07-03', 'reserved': False}, {'number': 24, 'name': 'Housing and Urban Development', 'latest_amended_on': '2025-06-12', 'latest_issue_date': '2025-06-13', 'up_to_date_as_of': '2025-07-03', 'reserved': False}, {'number': 25, 'name': 'Indians', 'latest_amended_on': '2025-06-05', 'latest_issue_date': '2025-06-25', 'up_to_date_as_of': '2025-07-03', 'reserved': False}, {'number': 26, 'name': 'Internal Revenue', 'latest_amended_on': '2025-05-20', 'latest_issue_date': '2025-07-01', 'up_to_date_as_of': '2025-07-03', 'reserved': False}, {'number': 27, 'name': 'Alcohol, Tobacco Products and Firearms', 'latest_amended_on': '2025-03-20', 'latest_issue_date': '2025-06-24', 'up_to_date_as_of': '2025-07-03', 'reserved': False}, {'number': 28, 'name': 'Judicial Administration', 'latest_amended_on': '2025-07-03', 'latest_issue_date': '2025-07-03', 'up_to_date_as_of': '2025-07-03', 'reserved': False}, {'number': 29, 'name': 'Labor', 'latest_amended_on': '2025-07-02', 'latest_issue_date': '2025-07-02', 'up_to_date_as_of': '2025-07-03', 'reserved': False}, {'number': 30, 'name': 'Mineral Resources', 'latest_amended_on': '2025-06-27', 'latest_issue_date': '2025-06-27', 'up_to_date_as_of': '2025-07-03', 'reserved': False}, {'number': 31, 'name': 'Money and Finance: Treasury', 'latest_amended_on': '2025-07-01', 'latest_issue_date': '2025-07-01', 'up_to_date_as_of': '2025-07-03', 'reserved': False}, {'number': 32, 'name': 'National Defense', 'latest_amended_on': '2025-07-03', 'latest_issue_date': '2025-07-03', 'up_to_date_as_of': '2025-07-03', 'reserved': False}, {'number': 33, 'name': 'Navigation and Navigable Waters', 'latest_amended_on': '2025-07-03', 'latest_issue_date': '2025-07-03', 'up_to_date_as_of': '2025-07-03', 'reserved': False}, {'number': 34, 'name': 'Education', 'latest_amended_on': '2025-02-18', 'latest_issue_date': '2025-02-18', 'up_to_date_as_of': '2025-07-03', 'reserved': False}, {'number': 35, 'name': 'Reserved', 'latest_amended_on': None, 'latest_issue_date': None, 'up_to_date_as_of': None, 'reserved': True}, {'number': 36, 'name': 'Parks, Forests, and Public Property', 'latest_amended_on': '2025-07-03', 'latest_issue_date': '2025-07-03', 'up_to_date_as_of': '2025-07-03', 'reserved': False}, {'number': 37, 'name': 'Patents, Trademarks, and Copyrights', 'latest_amended_on': '2025-07-02', 'latest_issue_date': '2025-07-02', 'up_to_date_as_of': '2025-07-03', 'reserved': False}, {'number': 38, 'name': \"Pensions, Bonuses, and Veterans' Relief\", 'latest_amended_on': '2025-07-02', 'latest_issue_date': '2025-07-02', 'up_to_date_as_of': '2025-07-03', 'reserved': False}, {'number': 39, 'name': 'Postal Service', 'latest_amended_on': '2025-07-03', 'latest_issue_date': '2025-07-03', 'up_to_date_as_of': '2025-07-03', 'reserved': False}, {'number': 40, 'name': 'Protection of Environment', 'latest_amended_on': '2025-07-03', 'latest_issue_date': '2025-07-03', 'up_to_date_as_of': '2025-07-03', 'reserved': False}, {'number': 41, 'name': 'Public Contracts and Property Management', 'latest_amended_on': '2025-01-21', 'latest_issue_date': '2025-01-21', 'up_to_date_as_of': '2025-07-03', 'reserved': False}, {'number': 42, 'name': 'Public Health', 'latest_amended_on': '2025-06-03', 'latest_issue_date': '2025-06-03', 'up_to_date_as_of': '2025-07-03', 'reserved': False}, {'number': 43, 'name': 'Public Lands: Interior', 'latest_amended_on': '2025-07-03', 'latest_issue_date': '2025-07-03', 'up_to_date_as_of': '2025-07-03', 'reserved': False}, {'number': 44, 'name': 'Emergency Management and Assistance', 'latest_amended_on': '2024-12-31', 'latest_issue_date': '2025-01-01', 'up_to_date_as_of': '2025-07-03', 'reserved': False}, {'number': 45, 'name': 'Public Welfare', 'latest_amended_on': '2025-06-25', 'latest_issue_date': '2025-06-25', 'up_to_date_as_of': '2025-07-03', 'reserved': False}, {'number': 46, 'name': 'Shipping', 'latest_amended_on': '2025-07-01', 'latest_issue_date': '2025-07-01', 'up_to_date_as_of': '2025-07-03', 'reserved': False}, {'number': 47, 'name': 'Telecommunication', 'latest_amended_on': '2025-07-01', 'latest_issue_date': '2025-07-01', 'up_to_date_as_of': '2025-07-03', 'reserved': False}, {'number': 48, 'name': 'Federal Acquisition Regulations System', 'latest_amended_on': '2025-06-11', 'latest_issue_date': '2025-06-11', 'up_to_date_as_of': '2025-07-03', 'reserved': False}, {'number': 49, 'name': 'Transportation', 'latest_amended_on': '2025-07-03', 'latest_issue_date': '2025-07-03', 'up_to_date_as_of': '2025-07-03', 'reserved': False}, {'number': 50, 'name': 'Wildlife and Fisheries', 'latest_amended_on': '2025-06-30', 'latest_issue_date': '2025-06-30', 'up_to_date_as_of': '2025-07-03', 'reserved': False}], 'meta': {'date': '2025-07-03', 'import_in_progress': False}}\n",
      "finished risky job\n"
     ]
    },
    {
     "data": {
      "text/plain": [
       "dict"
      ]
     },
     "execution_count": 12,
     "metadata": {},
     "output_type": "execute_result"
    }
   ],
   "source": [
    "# Do my imports - pandas for data analysis, requests for HTTPS REST API requests, json for, well, javascript object notation, duh\n",
    "import pandas as pd\n",
    "import requests as rq\n",
    "import json as json\n",
    "\n",
    "# Set my constants\n",
    "base_url = \"https://www.ecfr.gov/api/\"\n",
    "titles_url = base_url + \"versioner/v1/titles.json\"\n",
    "agencies_url = base_url + \"admin/v1/agencies.json\"\n",
    "data_path = \"/workspaces/codespaces-jupyter/notebooks/ecfr_data/\"\n",
    "ecfr_titles = {'titles':[]}\n",
    "\n",
    "\n",
    "print(\"Welcome to the MRWeCFR with base_url of \"+base_url)\n",
    "\n",
    "# Psuedocode\n",
    "# 1. Let's see if we have a list of recent titles (less than 30 days old) in our titles.json file\n",
    "# 2. If we do, let's see if we have the full and amendments of similar age, else, try and refresh titles.json \n",
    "# 3. If we are good with source data, skip to analysis, else, try and refresh the eCFR json details \n",
    "# 4. Analysis - let's load some basic semantic checks (wordcount, reading level) and some change trackers (count of changes, frequency over time)\n",
    "\n",
    "try:\n",
    "    # lets see if we have some files\n",
    "    print(\"Let\\'s do this - reading the file now\")\n",
    "    with open(data_path+'titles.json') as mytitlesfile:\n",
    "        titles_json = json.load(mytitlesfile)\n",
    "\n",
    "\n",
    "    #\"up_to_date_as_of\": \"2025-07-03\"\n",
    "\n",
    "except FileNotFoundError:\n",
    "    # oh dang. no file\n",
    "    print(\"Whoops - file not found. Ain\\'t got nothin\\' sorry\")\n",
    "\n",
    "else:\n",
    "    # no exception occurred - woohoo\n",
    "    print(\"Nothing to see here but these titles \\n\")\n",
    "    print(titles_json)\n",
    "\n",
    "finally:\n",
    "    # do this always\n",
    "    print(\"finished risky job\")\n",
    "\n",
    "\n",
    "type(titles_json)"
   ]
  }
 ],
 "metadata": {
  "kernelspec": {
   "display_name": "Python 3",
   "language": "python",
   "name": "python3"
  },
  "language_info": {
   "codemirror_mode": {
    "name": "ipython",
    "version": 3
   },
   "file_extension": ".py",
   "mimetype": "text/x-python",
   "name": "python",
   "nbconvert_exporter": "python",
   "pygments_lexer": "ipython3",
   "version": "3.12.1"
  }
 },
 "nbformat": 4,
 "nbformat_minor": 5
}
