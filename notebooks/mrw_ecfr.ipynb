{
 "cells": [
  {
   "cell_type": "markdown",
   "id": "a76bfca6",
   "metadata": {},
   "source": [
    "<h1>Matt's eCFR API Demonstrator</h1>\n",
    "<p>An intro to Jupyter Notebooks</p>\n",
    "<p><i>Teach yourself Python using the eCFR API</i></p>"
   ]
  },
  {
   "cell_type": "code",
   "execution_count": 41,
   "id": "492e639e",
   "metadata": {},
   "outputs": [],
   "source": [
    "# Do my imports - datetime for date operations, pandas for data analysis, requests for HTTPS REST API requests, json for, well, javascript object notation, duh\n",
    "import datetime as dt\n",
    "import pandas as pd\n",
    "import requests as rq\n",
    "import json as json\n",
    "\n",
    "# Set my constants\n",
    "base_url = \"https://www.ecfr.gov/api/\"\n",
    "titles_url = base_url + \"versioner/v1/titles.json\"\n",
    "agencies_url = base_url + \"admin/v1/agencies.json\"\n",
    "data_path = \"../data/\"\n",
    "\n",
    "# Define my eCFR API wrapper class\n",
    "class eCFR_API_Wrapper:\n",
    "    \"\"\"\n",
    "    A wrapper for the eCFR API to fetch and process data.\n",
    "    \"\"\"\n",
    "\n",
    "    def __init__(self, base_url):\n",
    "        self.base_url = base_url\n",
    "\n",
    "    def fetch_data(endpoint):\n",
    "        \"\"\"\n",
    "        Fetch data from the eCFR API.\n",
    "        \"\"\"\n",
    "        try:\n",
    "            response = rq.get(f\"{endpoint}\")\n",
    "            if response.status_code == 200:\n",
    "                return response.json()\n",
    "            else:\n",
    "                response.raise_for_status()\n",
    "        except: \n",
    "            print(f\"Error fetching data from {endpoint}\")\n",
    "            return None"
   ]
  },
  {
   "cell_type": "code",
   "execution_count": null,
   "id": "7347734f",
   "metadata": {},
   "outputs": [],
   "source": [
    "class eCFR_HouseKeeping:\n",
    "\n",
    "    def __init__(self, data_path):\n",
    "        self.data_path = data_path\n",
    "\n",
    "    def refresh_titles(self):\n",
    "        \"\"\"\n",
    "        Check the titles.json file for freshness and update if necessary.\n",
    "        \"\"\"\n",
    "        statusmsg = \"Titles check completed\"\n",
    "        # Get the current date and calculate the date 30 days ago\n",
    "        thirtydaysback = dt.datetime.now() - dt.timedelta(days=30)\n",
    "        \n",
    "        try:\n",
    "            with open(self.data_path + 'titles.json', 'r') as mytitlesfile:\n",
    "                titles_json = json.load(mytitlesfile)\n",
    "        except FileNotFoundError:\n",
    "            titles_json = None\n",
    "            statusmsg = \"No titles.json found, need to fetch data\"\n",
    "\n",
    "        if titles_json:\n",
    "            # We have some data, let's check it\n",
    "            titles_dict = titles_json.get('titles', [])\n",
    "            if not titles_dict:\n",
    "                statusmsg = \"No titles found in JSON\"\n",
    "                return statusmsg\n",
    "            \n",
    "            lastbestdate = None\n",
    "            key_to_find = \"up_to_date_as_of\"\n",
    "            up_to_date_values = [t[key_to_find] for t in titles_dict if key_to_find in t]\n",
    "            lastbestdate = max(list(filter(None, up_to_date_values)))\n",
    "            \n",
    "            if lastbestdate > str(thirtydaysback):\n",
    "                statusmsg += f\" with good data as of {lastbestdate}\"\n",
    "            else:     \n",
    "                statusmsg += f\" with stale data as of {lastbestdate}. We need to refresh\"\n",
    "                # call refresh API here\n",
    "                new_titles = eCFR_API_Wrapper.fetch_data(titles_url)\n",
    "                if new_titles:\n",
    "                    # we got new data - update the titles_json\n",
    "                    titles_json = new_titles\n",
    "                    # and write it to the file\n",
    "                    with open(self.data_path + 'titles.json', 'w') as mytitlesfile:\n",
    "                        json.dump(titles_json, mytitlesfile)\n",
    "                    statusmsg += \" and refreshed titles.json\"\n",
    "        else:\n",
    "            # failed to load useful data - darn.    \n",
    "            statusmsg += \" but data is no good\"\n",
    "    \n",
    "        return statusmsg"
   ]
  },
  {
   "cell_type": "markdown",
   "id": "f52606d6",
   "metadata": {},
   "source": [
    "<h2>Put classes and constants above<h2>\n",
    "<h3>Put implementation below</h3>"
   ]
  },
  {
   "cell_type": "code",
   "execution_count": 43,
   "id": "264b1d03",
   "metadata": {},
   "outputs": [
    {
     "name": "stdout",
     "output_type": "stream",
     "text": [
      "Welcome to the MRWeCFR with base_url of https://www.ecfr.gov/api/\n",
      "finished titles check with status of Titles check completed with good data as of 2025-07-08\n",
      "finished titles check with status of Titles check completed with good data as of 2025-07-08\n"
     ]
    }
   ],
   "source": [
    "\n",
    "# initialize variables\n",
    "titles_json= {'titles':[]}  #the titles_json dictionary to contain data\n",
    "statusmsg = \"initialized\"  #use this to track what's going on \n",
    "lastbestdate = \"1776-07-04\"  #when was the eCFR last updated?\n",
    "today = dt.date.today() #what day is it?\n",
    "\n",
    "# test successful initialization\n",
    "assert len(titles_json)>0\n",
    "assert len(statusmsg)>0\n",
    "assert str(today)>lastbestdate\n",
    "\n",
    "print(\"Welcome to the MRWeCFR with base_url of \"+base_url)\n",
    "\n",
    "# Psuedocode\n",
    "# 1. Let's see if we have a list of recent titles (less than 30 days old) in our titles.json file\n",
    "# 2. If we do, let's see if we have the full and amendments of similar age, else, try and refresh titles.json \n",
    "# 3. If we are good with source data, skip to analysis, else, try and refresh the eCFR json details \n",
    "# 4. Analysis - let's load some basic semantic checks (wordcount, reading level) and some change trackers (count of changes, frequency over time)\n",
    "\n",
    "#let's check the titles.json file for freshness\n",
    "ecfr_housekeeping = eCFR_HouseKeeping(data_path)\n",
    "statusmsg = ecfr_housekeeping.refresh_titles()\n",
    "print(\"finished titles check with status of \"+statusmsg)\n",
    "\n",
    "\n",
    "\n"
   ]
  }
 ],
 "metadata": {
  "kernelspec": {
   "display_name": "Python 3",
   "language": "python",
   "name": "python3"
  },
  "language_info": {
   "codemirror_mode": {
    "name": "ipython",
    "version": 3
   },
   "file_extension": ".py",
   "mimetype": "text/x-python",
   "name": "python",
   "nbconvert_exporter": "python",
   "pygments_lexer": "ipython3",
   "version": "3.12.1"
  }
 },
 "nbformat": 4,
 "nbformat_minor": 5
}
